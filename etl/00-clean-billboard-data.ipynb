{
 "cells": [
  {
   "cell_type": "code",
   "execution_count": 2,
   "metadata": {},
   "outputs": [],
   "source": [
    "# import packages\n",
    "import pandas as pd\n",
    "import numpy as np\n",
    "import os"
   ]
  },
  {
   "cell_type": "markdown",
   "metadata": {},
   "source": [
    "## Cleaning Billboard data\n",
    "\n",
    "Script to clean Billboard data from [this repo](https://github.com/utdata/rwd-billboard-data) (Thank you, UT Austin!)."
   ]
  },
  {
   "cell_type": "code",
   "execution_count": 3,
   "metadata": {},
   "outputs": [],
   "source": [
    "# read in all data\n",
    "\n",
    "## get all the directories we need to read + archive file\n",
    "files = os.listdir(\"../data/source/hot-100/\")\n",
    "directories = [file for file in files if \".\" not in file]\n",
    "\n",
    "### read in top level data\n",
    "billboard_list = [pd.read_csv(\"../data/source/hot-100/\" + file) \n",
    "                  for file in files \n",
    "                  if \".csv\" in file]\n",
    "\n",
    "## get files in all subdirectories\n",
    "for directory in directories:\n",
    "    files_sub = [file \n",
    "                 for file in os.listdir(\"../data/source/hot-100/\" + directory)\n",
    "                 if \".csv\" in file]\n",
    "    ## import in the data\n",
    "    for file in files_sub:\n",
    "        data = pd.read_csv(\"../data/source/hot-100/\"\n",
    "                           + directory\n",
    "                           +\"/\"\n",
    "                           + file)\n",
    "        billboard_list.append(data)"
   ]
  },
  {
   "cell_type": "code",
   "execution_count": 4,
   "metadata": {},
   "outputs": [],
   "source": [
    "# concat into big dataframe\n",
    "billboard_data = pd.concat(billboard_list,\n",
    "                           ignore_index=True)"
   ]
  },
  {
   "cell_type": "code",
   "execution_count": 5,
   "metadata": {},
   "outputs": [],
   "source": [
    "# let us put in NAs for last week\n",
    "billboard_data.loc[billboard_data[\"last_week\"]==\"-\",\n",
    "                   \"last_week\"] = np.nan"
   ]
  },
  {
   "cell_type": "code",
   "execution_count": 6,
   "metadata": {},
   "outputs": [],
   "source": [
    "billboard_data.to_csv(\"../data/processed/billboard_charts_compiled.csv\", index=False)"
   ]
  },
  {
   "cell_type": "code",
   "execution_count": 7,
   "metadata": {},
   "outputs": [],
   "source": [
    "billboard_data[billboard_data[\"current_week\"]==1].to_csv(\"../data/processed/billboard_charts_num_one.csv\", index=False)"
   ]
  }
 ],
 "metadata": {
  "kernelspec": {
   "display_name": "env",
   "language": "python",
   "name": "python3"
  },
  "language_info": {
   "codemirror_mode": {
    "name": "ipython",
    "version": 3
   },
   "file_extension": ".py",
   "mimetype": "text/x-python",
   "name": "python",
   "nbconvert_exporter": "python",
   "pygments_lexer": "ipython3",
   "version": "3.9.6"
  }
 },
 "nbformat": 4,
 "nbformat_minor": 2
}
