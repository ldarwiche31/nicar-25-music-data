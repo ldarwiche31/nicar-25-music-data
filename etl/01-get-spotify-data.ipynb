{
 "cells": [
  {
   "cell_type": "code",
   "execution_count": 2,
   "metadata": {},
   "outputs": [],
   "source": [
    "# import packages\n",
    "import pandas as pd\n",
    "import requests\n",
    "import json\n",
    "from api_spotify import client_id, client_secret"
   ]
  },
  {
   "cell_type": "code",
   "execution_count": 3,
   "metadata": {},
   "outputs": [],
   "source": [
    "# read in billboard data\n",
    "billboard = pd.read_csv(\"../data/processed/billboard_charts_num_one.csv\")"
   ]
  },
  {
   "cell_type": "markdown",
   "metadata": {},
   "source": [
    "## Spotify data context\n",
    "\n",
    "In this script, we will get the correspoding track data for the number one hits."
   ]
  },
  {
   "cell_type": "code",
   "execution_count": 25,
   "metadata": {},
   "outputs": [],
   "source": [
    "# let us first par down the billboard data\n",
    "\n",
    "## we only want post 1960 so we can have pretty full decades\n",
    "billboard_search = billboard[billboard[\"chart_week\"]>=\"1960-01-01\"]\n",
    "\n",
    "## for the search, we don't need to get the same track multiple times...\n",
    "## filter down to unique title and performers\n",
    "billboard_search = billboard_search[[\"title\", \"performer\"]].drop_duplicates(ignore_index=True)"
   ]
  },
  {
   "cell_type": "code",
   "execution_count": 9,
   "metadata": {},
   "outputs": [],
   "source": [
    "# okay set up the authorization for the spotify API\n",
    "\n",
    "## authorize\n",
    "auth_url = 'https://accounts.spotify.com/api/token'\n",
    "data = {\n",
    "    'grant_type': 'client_credentials',\n",
    "    'client_id': client_id,\n",
    "    'client_secret': client_secret,\n",
    "}\n",
    "auth_response = requests.post(auth_url, data=data)\n",
    "access_token = auth_response.json().get('access_token')\n",
    "headers = {\"Authorization\":\"Bearer \" + access_token}"
   ]
  },
  {
   "cell_type": "code",
   "execution_count": 23,
   "metadata": {},
   "outputs": [],
   "source": [
    "# function to search spotify\n",
    "def search_spotify(search_term, type, auth_headers, limit=1):\n",
    "    '''\n",
    "    types = [\"artist\", \"track\", \"album\"]\n",
    "    '''\n",
    "    response = requests.get(\"https://api.spotify.com/v1/search?\"\n",
    "                            + \"q=\" + search_term\n",
    "                            + \"&type=\" + type\n",
    "                            + \"&limit=\" + str(limit),\n",
    "                            headers=auth_headers)\n",
    "    output = json.loads(response.content)[type + \"s\"][\"items\"][0]\n",
    "    if type == \"artist\":\n",
    "        output_formatted = {\"type\":type,\n",
    "                            \"artist_name\":output[\"name\"],\n",
    "                            \"artist_id\":output[\"id\"],\n",
    "                            \"popularity\":output[\"popularity\"],\n",
    "                            \"genres\":output[\"genres\"],\n",
    "                            \"followers\":output[\"followers\"][\"total\"]}\n",
    "    if type == \"album\":\n",
    "        output_formatted = {\"type\":type,\n",
    "                            \"artist_name\":output[\"artists\"][0][\"name\"],\n",
    "                            \"artist_id\":output[\"artists\"][0][\"id\"],\n",
    "                            \"album_name\":output[\"name\"],\n",
    "                            \"album_id\":output[\"id\"]}\n",
    "    if type == \"track\":\n",
    "        output_formatted = {\"type\":type,\n",
    "                            \"artist_name\":output[\"artists\"][0][\"name\"],\n",
    "                            \"artist_id\":output[\"artists\"][0][\"id\"],\n",
    "                            \"album_name\":output[\"album\"][\"name\"],\n",
    "                            \"album_id\":output[\"album\"][\"id\"],\n",
    "                            \"track_name\":output[\"name\"],\n",
    "                            \"track_id\":output[\"id\"],\n",
    "                            \"popularity\":output[\"popularity\"],\n",
    "                            \"duration_ms\":output[\"duration_ms\"]}\n",
    "        \n",
    "    return output_formatted"
   ]
  },
  {
   "cell_type": "code",
   "execution_count": 32,
   "metadata": {},
   "outputs": [],
   "source": [
    "# cycle through all of our number ones!\n",
    "\n",
    "## make our search term\n",
    "billboard_search[\"search_term\"] = billboard_search[\"title\"] + \" \" + billboard_search[\"performer\"]\n",
    "\n",
    "## list to store it in\n",
    "spotify_list = []\n",
    "\n",
    "for row in range(billboard_search.shape[0]):\n",
    "    output = search_spotify(billboard_search.loc[row, \n",
    "                                                 \"search_term\"],\n",
    "                            \"track\",\n",
    "                            headers)\n",
    "    \n",
    "    output.update({\"title\":billboard_search.loc[row, \n",
    "                                                \"title\"],\n",
    "                   \"performer\":billboard_search.loc[row, \n",
    "                                                    \"performer\"]})\n",
    "    \n",
    "    spotify_list.append(output)"
   ]
  },
  {
   "cell_type": "code",
   "execution_count": 34,
   "metadata": {},
   "outputs": [],
   "source": [
    "## concat into df\n",
    "spotify_data = pd.DataFrame(spotify_list)"
   ]
  },
  {
   "cell_type": "code",
   "execution_count": 37,
   "metadata": {},
   "outputs": [],
   "source": [
    "spotify_data.to_csv(\"../data/processed/spotify_num_one_track_data.csv\", \n",
    "                    index=False)"
   ]
  }
 ],
 "metadata": {
  "kernelspec": {
   "display_name": "env",
   "language": "python",
   "name": "python3"
  },
  "language_info": {
   "codemirror_mode": {
    "name": "ipython",
    "version": 3
   },
   "file_extension": ".py",
   "mimetype": "text/x-python",
   "name": "python",
   "nbconvert_exporter": "python",
   "pygments_lexer": "ipython3",
   "version": "3.9.6"
  }
 },
 "nbformat": 4,
 "nbformat_minor": 2
}
